{
 "metadata": {
  "name": ""
 },
 "nbformat": 3,
 "nbformat_minor": 0,
 "worksheets": [
  {
   "cells": [
    {
     "cell_type": "code",
     "collapsed": false,
     "input": [
      "import numpy as np\n",
      "import pandas as pd  \n",
      "from sklearn import cross_validation\n",
      "from sklearn import datasets\n",
      "from sklearn.ensemble import RandomForestClassifier \n",
      "import random       "
     ],
     "language": "python",
     "metadata": {},
     "outputs": [],
     "prompt_number": 1
    },
    {
     "cell_type": "code",
     "collapsed": false,
     "input": [
      "#import data - V5 has longer post purchase window\n",
      "df = pd.read_table('upp_combo_prepped-v7b.txt', header=0, nrows=1000000); \n",
      "len(df.columns)"
     ],
     "language": "python",
     "metadata": {},
     "outputs": [
      {
       "metadata": {},
       "output_type": "pyout",
       "prompt_number": 2,
       "text": [
        "27"
       ]
      }
     ],
     "prompt_number": 2
    },
    {
     "cell_type": "code",
     "collapsed": false,
     "input": [
      "#predictor and target vars\n",
      "predictor = df.iloc[:,1:len(df.columns)-1]\n",
      "target    = df.iloc[:,len(df.columns)-1] \n",
      "sum(target)/(len(target)*1.0)\n"
     ],
     "language": "python",
     "metadata": {},
     "outputs": [
      {
       "metadata": {},
       "output_type": "pyout",
       "prompt_number": 3,
       "text": [
        "0.013894999999999999"
       ]
      }
     ],
     "prompt_number": 3
    },
    {
     "cell_type": "code",
     "collapsed": false,
     "input": [
      "predictor.head()"
     ],
     "language": "python",
     "metadata": {},
     "outputs": [
      {
       "html": [
        "<div style=\"max-height:1000px;max-width:1500px;overflow:auto;\">\n",
        "<table border=\"1\" class=\"dataframe\">\n",
        "  <thead>\n",
        "    <tr style=\"text-align: right;\">\n",
        "      <th></th>\n",
        "      <th>account_holder_flag</th>\n",
        "      <th>vib_views</th>\n",
        "      <th>bi_views</th>\n",
        "      <th>non_bi_views</th>\n",
        "      <th>rouge_views</th>\n",
        "      <th>cart_checkout_views</th>\n",
        "      <th>last_cart_checkout_view</th>\n",
        "      <th>review_views</th>\n",
        "      <th>last_review_view</th>\n",
        "      <th>other_views</th>\n",
        "      <th>last_other_view</th>\n",
        "      <th>women_views</th>\n",
        "      <th>last_women_view</th>\n",
        "      <th>men_views</th>\n",
        "      <th>last_men_view</th>\n",
        "      <th>sale_views</th>\n",
        "      <th>last_sale_view</th>\n",
        "      <th>low_rating_views</th>\n",
        "      <th>last_low_rating_view</th>\n",
        "      <th>high_rating_views</th>\n",
        "      <th></th>\n",
        "    </tr>\n",
        "  </thead>\n",
        "  <tbody>\n",
        "    <tr>\n",
        "      <th>0</th>\n",
        "      <td> 0</td>\n",
        "      <td> 0</td>\n",
        "      <td>  0</td>\n",
        "      <td> 2</td>\n",
        "      <td> 0</td>\n",
        "      <td> 0</td>\n",
        "      <td> 16344.000000</td>\n",
        "      <td> 0</td>\n",
        "      <td> 16344</td>\n",
        "      <td>  0</td>\n",
        "      <td> 16344.000000</td>\n",
        "      <td> 0</td>\n",
        "      <td> 16344.000000</td>\n",
        "      <td> 0</td>\n",
        "      <td> 16344</td>\n",
        "      <td> 0</td>\n",
        "      <td> 16344</td>\n",
        "      <td> 0</td>\n",
        "      <td> 16344</td>\n",
        "      <td> 0</td>\n",
        "      <td>...</td>\n",
        "    </tr>\n",
        "    <tr>\n",
        "      <th>1</th>\n",
        "      <td> 1</td>\n",
        "      <td> 0</td>\n",
        "      <td> 20</td>\n",
        "      <td> 4</td>\n",
        "      <td> 0</td>\n",
        "      <td> 8</td>\n",
        "      <td>    13.224491</td>\n",
        "      <td> 0</td>\n",
        "      <td> 16344</td>\n",
        "      <td> 14</td>\n",
        "      <td>    13.225174</td>\n",
        "      <td> 1</td>\n",
        "      <td>    38.518588</td>\n",
        "      <td> 0</td>\n",
        "      <td> 16344</td>\n",
        "      <td> 0</td>\n",
        "      <td> 16344</td>\n",
        "      <td> 0</td>\n",
        "      <td> 16344</td>\n",
        "      <td> 1</td>\n",
        "      <td>...</td>\n",
        "    </tr>\n",
        "    <tr>\n",
        "      <th>2</th>\n",
        "      <td> 0</td>\n",
        "      <td> 0</td>\n",
        "      <td>  0</td>\n",
        "      <td> 0</td>\n",
        "      <td> 0</td>\n",
        "      <td> 0</td>\n",
        "      <td> 16344.000000</td>\n",
        "      <td> 0</td>\n",
        "      <td> 16344</td>\n",
        "      <td>  0</td>\n",
        "      <td> 16344.000000</td>\n",
        "      <td> 0</td>\n",
        "      <td> 16344.000000</td>\n",
        "      <td> 0</td>\n",
        "      <td> 16344</td>\n",
        "      <td> 0</td>\n",
        "      <td> 16344</td>\n",
        "      <td> 0</td>\n",
        "      <td> 16344</td>\n",
        "      <td> 0</td>\n",
        "      <td>...</td>\n",
        "    </tr>\n",
        "    <tr>\n",
        "      <th>3</th>\n",
        "      <td> 0</td>\n",
        "      <td> 0</td>\n",
        "      <td>  0</td>\n",
        "      <td> 3</td>\n",
        "      <td> 0</td>\n",
        "      <td> 0</td>\n",
        "      <td> 16344.000000</td>\n",
        "      <td> 0</td>\n",
        "      <td> 16344</td>\n",
        "      <td>  2</td>\n",
        "      <td>     0.451562</td>\n",
        "      <td> 0</td>\n",
        "      <td> 16344.000000</td>\n",
        "      <td> 0</td>\n",
        "      <td> 16344</td>\n",
        "      <td> 0</td>\n",
        "      <td> 16344</td>\n",
        "      <td> 0</td>\n",
        "      <td> 16344</td>\n",
        "      <td> 0</td>\n",
        "      <td>...</td>\n",
        "    </tr>\n",
        "    <tr>\n",
        "      <th>4</th>\n",
        "      <td> 0</td>\n",
        "      <td> 0</td>\n",
        "      <td>  0</td>\n",
        "      <td> 0</td>\n",
        "      <td> 0</td>\n",
        "      <td> 0</td>\n",
        "      <td> 16344.000000</td>\n",
        "      <td> 0</td>\n",
        "      <td> 16344</td>\n",
        "      <td>  2</td>\n",
        "      <td>    19.210405</td>\n",
        "      <td> 0</td>\n",
        "      <td> 16344.000000</td>\n",
        "      <td> 0</td>\n",
        "      <td> 16344</td>\n",
        "      <td> 0</td>\n",
        "      <td> 16344</td>\n",
        "      <td> 0</td>\n",
        "      <td> 16344</td>\n",
        "      <td> 0</td>\n",
        "      <td>...</td>\n",
        "    </tr>\n",
        "  </tbody>\n",
        "</table>\n",
        "<p>5 rows \u00d7 25 columns</p>\n",
        "</div>"
       ],
       "metadata": {},
       "output_type": "pyout",
       "prompt_number": 4,
       "text": [
        "   account_holder_flag  vib_views  bi_views  non_bi_views  rouge_views  \\\n",
        "0                    0          0         0             2            0   \n",
        "1                    1          0        20             4            0   \n",
        "2                    0          0         0             0            0   \n",
        "3                    0          0         0             3            0   \n",
        "4                    0          0         0             0            0   \n",
        "\n",
        "   cart_checkout_views  last_cart_checkout_view  review_views  \\\n",
        "0                    0             16344.000000             0   \n",
        "1                    8                13.224491             0   \n",
        "2                    0             16344.000000             0   \n",
        "3                    0             16344.000000             0   \n",
        "4                    0             16344.000000             0   \n",
        "\n",
        "   last_review_view  other_views  last_other_view  women_views  \\\n",
        "0             16344            0     16344.000000            0   \n",
        "1             16344           14        13.225174            1   \n",
        "2             16344            0     16344.000000            0   \n",
        "3             16344            2         0.451562            0   \n",
        "4             16344            2        19.210405            0   \n",
        "\n",
        "   last_women_view  men_views  last_men_view  sale_views  last_sale_view  \\\n",
        "0     16344.000000          0          16344           0           16344   \n",
        "1        38.518588          0          16344           0           16344   \n",
        "2     16344.000000          0          16344           0           16344   \n",
        "3     16344.000000          0          16344           0           16344   \n",
        "4     16344.000000          0          16344           0           16344   \n",
        "\n",
        "   low_rating_views  last_low_rating_view  high_rating_views      \n",
        "0                 0                 16344                  0 ...  \n",
        "1                 0                 16344                  1 ...  \n",
        "2                 0                 16344                  0 ...  \n",
        "3                 0                 16344                  0 ...  \n",
        "4                 0                 16344                  0 ...  \n",
        "\n",
        "[5 rows x 25 columns]"
       ]
      }
     ],
     "prompt_number": 4
    },
    {
     "cell_type": "code",
     "collapsed": false,
     "input": [
      "#split data into train and test sets\n",
      "x_train, x_test, y_train, y_test = cross_validation.train_test_split(predictor, target, test_size=0.4) "
     ],
     "language": "python",
     "metadata": {},
     "outputs": [],
     "prompt_number": 5
    },
    {
     "cell_type": "code",
     "collapsed": false,
     "input": [
      "#train randomForest\n",
      "forest = RandomForestClassifier(n_estimators=200, n_jobs=-1, oob_score=True, max_depth=7)\n",
      "forest = forest.fit(x_train, y_train, sample_weight = np.array([1.5 if i == 0 else 8.5 for i in y_train]))  "
     ],
     "language": "python",
     "metadata": {},
     "outputs": [],
     "prompt_number": 6
    },
    {
     "cell_type": "code",
     "collapsed": false,
     "input": [
      "#make predictions on training data\n",
      "forest_predictions = forest.predict(x_train);   "
     ],
     "language": "python",
     "metadata": {},
     "outputs": [],
     "prompt_number": 7
    },
    {
     "cell_type": "code",
     "collapsed": false,
     "input": [
      "#confusion matrix\n",
      "cm = pd.crosstab(y_train, forest_predictions, rownames=[\"Actual\"], colnames=[\"Pred\"]) \n",
      "cm"
     ],
     "language": "python",
     "metadata": {},
     "outputs": [
      {
       "html": [
        "<div style=\"max-height:1000px;max-width:1500px;overflow:auto;\">\n",
        "<table border=\"1\" class=\"dataframe\">\n",
        "  <thead>\n",
        "    <tr style=\"text-align: right;\">\n",
        "      <th>Pred</th>\n",
        "      <th>0</th>\n",
        "      <th>1</th>\n",
        "    </tr>\n",
        "    <tr>\n",
        "      <th>Actual</th>\n",
        "      <th></th>\n",
        "      <th></th>\n",
        "    </tr>\n",
        "  </thead>\n",
        "  <tbody>\n",
        "    <tr>\n",
        "      <th>0</th>\n",
        "      <td> 586666</td>\n",
        "      <td> 4960</td>\n",
        "    </tr>\n",
        "    <tr>\n",
        "      <th>1</th>\n",
        "      <td>   5922</td>\n",
        "      <td> 2452</td>\n",
        "    </tr>\n",
        "  </tbody>\n",
        "</table>\n",
        "<p>2 rows \u00d7 2 columns</p>\n",
        "</div>"
       ],
       "metadata": {},
       "output_type": "pyout",
       "prompt_number": 8,
       "text": [
        "Pred         0     1\n",
        "Actual              \n",
        "0       586666  4960\n",
        "1         5922  2452\n",
        "\n",
        "[2 rows x 2 columns]"
       ]
      }
     ],
     "prompt_number": 8
    },
    {
     "cell_type": "code",
     "collapsed": false,
     "input": [
      "#overall accuracy\n",
      "np.sum(y_train==forest_predictions) / float(len(y_train))  "
     ],
     "language": "python",
     "metadata": {},
     "outputs": [
      {
       "metadata": {},
       "output_type": "pyout",
       "prompt_number": 9,
       "text": [
        "0.98186333333333331"
       ]
      }
     ],
     "prompt_number": 9
    },
    {
     "cell_type": "code",
     "collapsed": false,
     "input": [
      "#purchaser prediction accuracy\n",
      "print cm.iloc[1,1]/(cm.iloc[0,1]+cm.iloc[1,1]+0.0)  "
     ],
     "language": "python",
     "metadata": {},
     "outputs": [
      {
       "output_type": "stream",
       "stream": "stdout",
       "text": [
        "0.330814894765\n"
       ]
      }
     ],
     "prompt_number": 10
    },
    {
     "cell_type": "code",
     "collapsed": false,
     "input": [
      "#percentage of purchasers correctly predicted\n",
      "print cm.iloc[1,1]/(cm.iloc[1,0]+cm.iloc[1,1]+0.0)"
     ],
     "language": "python",
     "metadata": {},
     "outputs": [
      {
       "output_type": "stream",
       "stream": "stdout",
       "text": [
        "0.29281108192\n"
       ]
      }
     ],
     "prompt_number": 11
    },
    {
     "cell_type": "code",
     "collapsed": false,
     "input": [
      "#feature importance\n",
      "features = np.array(predictor.columns)\n",
      "importance = forest.feature_importances_\n",
      "\n",
      "feature_importance = pd.DataFrame(columns=[\"features\", \"importance\"])\n",
      "feature_importance.features = features\n",
      "feature_importance.importance = importance\n",
      "feature_importance.sort('importance', ascending=0).head(50)     "
     ],
     "language": "python",
     "metadata": {},
     "outputs": [
      {
       "html": [
        "<div style=\"max-height:1000px;max-width:1500px;overflow:auto;\">\n",
        "<table border=\"1\" class=\"dataframe\">\n",
        "  <thead>\n",
        "    <tr style=\"text-align: right;\">\n",
        "      <th></th>\n",
        "      <th>features</th>\n",
        "      <th>importance</th>\n",
        "    </tr>\n",
        "  </thead>\n",
        "  <tbody>\n",
        "    <tr>\n",
        "      <th>23</th>\n",
        "      <td>           last_purchase</td>\n",
        "      <td> 0.127282</td>\n",
        "    </tr>\n",
        "    <tr>\n",
        "      <th>22</th>\n",
        "      <td>                   price</td>\n",
        "      <td> 0.122617</td>\n",
        "    </tr>\n",
        "    <tr>\n",
        "      <th>5 </th>\n",
        "      <td>     cart_checkout_views</td>\n",
        "      <td> 0.115296</td>\n",
        "    </tr>\n",
        "    <tr>\n",
        "      <th>6 </th>\n",
        "      <td> last_cart_checkout_view</td>\n",
        "      <td> 0.110561</td>\n",
        "    </tr>\n",
        "    <tr>\n",
        "      <th>21</th>\n",
        "      <td>               purchases</td>\n",
        "      <td> 0.090934</td>\n",
        "    </tr>\n",
        "    <tr>\n",
        "      <th>4 </th>\n",
        "      <td>             rouge_views</td>\n",
        "      <td> 0.073604</td>\n",
        "    </tr>\n",
        "    <tr>\n",
        "      <th>11</th>\n",
        "      <td>             women_views</td>\n",
        "      <td> 0.046054</td>\n",
        "    </tr>\n",
        "    <tr>\n",
        "      <th>1 </th>\n",
        "      <td>               vib_views</td>\n",
        "      <td> 0.040575</td>\n",
        "    </tr>\n",
        "    <tr>\n",
        "      <th>19</th>\n",
        "      <td>       high_rating_views</td>\n",
        "      <td> 0.038414</td>\n",
        "    </tr>\n",
        "    <tr>\n",
        "      <th>12</th>\n",
        "      <td>         last_women_view</td>\n",
        "      <td> 0.032058</td>\n",
        "    </tr>\n",
        "    <tr>\n",
        "      <th>20</th>\n",
        "      <td>   last_high_rating_view</td>\n",
        "      <td> 0.031696</td>\n",
        "    </tr>\n",
        "    <tr>\n",
        "      <th>10</th>\n",
        "      <td>         last_other_view</td>\n",
        "      <td> 0.031267</td>\n",
        "    </tr>\n",
        "    <tr>\n",
        "      <th>9 </th>\n",
        "      <td>             other_views</td>\n",
        "      <td> 0.021990</td>\n",
        "    </tr>\n",
        "    <tr>\n",
        "      <th>24</th>\n",
        "      <td>   cart_without_purchase</td>\n",
        "      <td> 0.021763</td>\n",
        "    </tr>\n",
        "    <tr>\n",
        "      <th>17</th>\n",
        "      <td>        low_rating_views</td>\n",
        "      <td> 0.021483</td>\n",
        "    </tr>\n",
        "    <tr>\n",
        "      <th>3 </th>\n",
        "      <td>            non_bi_views</td>\n",
        "      <td> 0.021476</td>\n",
        "    </tr>\n",
        "    <tr>\n",
        "      <th>0 </th>\n",
        "      <td>     account_holder_flag</td>\n",
        "      <td> 0.020028</td>\n",
        "    </tr>\n",
        "    <tr>\n",
        "      <th>18</th>\n",
        "      <td>    last_low_rating_view</td>\n",
        "      <td> 0.018728</td>\n",
        "    </tr>\n",
        "    <tr>\n",
        "      <th>2 </th>\n",
        "      <td>                bi_views</td>\n",
        "      <td> 0.008076</td>\n",
        "    </tr>\n",
        "    <tr>\n",
        "      <th>16</th>\n",
        "      <td>          last_sale_view</td>\n",
        "      <td> 0.003153</td>\n",
        "    </tr>\n",
        "    <tr>\n",
        "      <th>15</th>\n",
        "      <td>              sale_views</td>\n",
        "      <td> 0.002412</td>\n",
        "    </tr>\n",
        "    <tr>\n",
        "      <th>13</th>\n",
        "      <td>               men_views</td>\n",
        "      <td> 0.000249</td>\n",
        "    </tr>\n",
        "    <tr>\n",
        "      <th>14</th>\n",
        "      <td>           last_men_view</td>\n",
        "      <td> 0.000248</td>\n",
        "    </tr>\n",
        "    <tr>\n",
        "      <th>7 </th>\n",
        "      <td>            review_views</td>\n",
        "      <td> 0.000025</td>\n",
        "    </tr>\n",
        "    <tr>\n",
        "      <th>8 </th>\n",
        "      <td>        last_review_view</td>\n",
        "      <td> 0.000012</td>\n",
        "    </tr>\n",
        "  </tbody>\n",
        "</table>\n",
        "<p>25 rows \u00d7 2 columns</p>\n",
        "</div>"
       ],
       "metadata": {},
       "output_type": "pyout",
       "prompt_number": 12,
       "text": [
        "                   features  importance\n",
        "23            last_purchase    0.127282\n",
        "22                    price    0.122617\n",
        "5       cart_checkout_views    0.115296\n",
        "6   last_cart_checkout_view    0.110561\n",
        "21                purchases    0.090934\n",
        "4               rouge_views    0.073604\n",
        "11              women_views    0.046054\n",
        "1                 vib_views    0.040575\n",
        "19        high_rating_views    0.038414\n",
        "12          last_women_view    0.032058\n",
        "20    last_high_rating_view    0.031696\n",
        "10          last_other_view    0.031267\n",
        "9               other_views    0.021990\n",
        "24    cart_without_purchase    0.021763\n",
        "17         low_rating_views    0.021483\n",
        "3              non_bi_views    0.021476\n",
        "0       account_holder_flag    0.020028\n",
        "18     last_low_rating_view    0.018728\n",
        "2                  bi_views    0.008076\n",
        "16           last_sale_view    0.003153\n",
        "15               sale_views    0.002412\n",
        "13                men_views    0.000249\n",
        "14            last_men_view    0.000248\n",
        "7              review_views    0.000025\n",
        "8          last_review_view    0.000012\n",
        "\n",
        "[25 rows x 2 columns]"
       ]
      }
     ],
     "prompt_number": 12
    },
    {
     "cell_type": "code",
     "collapsed": false,
     "input": [
      "#validation test set\n",
      "sample_index = np.random.random_integers(0,len(y_test)-1, 100000)\n",
      "x_sample = x_test[sample_index]        \n",
      "y_sample = y_test[sample_index]     "
     ],
     "language": "python",
     "metadata": {},
     "outputs": [],
     "prompt_number": 13
    },
    {
     "cell_type": "code",
     "collapsed": false,
     "input": [
      "sample_predictions = forest.predict(x_sample)\n",
      "cm = pd.crosstab(y_sample, sample_predictions, rownames=[\"Actual\"], colnames=[\"Pred\"]) \n",
      "cm"
     ],
     "language": "python",
     "metadata": {},
     "outputs": [
      {
       "html": [
        "<div style=\"max-height:1000px;max-width:1500px;overflow:auto;\">\n",
        "<table border=\"1\" class=\"dataframe\">\n",
        "  <thead>\n",
        "    <tr style=\"text-align: right;\">\n",
        "      <th>Pred</th>\n",
        "      <th>0</th>\n",
        "      <th>1</th>\n",
        "    </tr>\n",
        "    <tr>\n",
        "      <th>Actual</th>\n",
        "      <th></th>\n",
        "      <th></th>\n",
        "    </tr>\n",
        "  </thead>\n",
        "  <tbody>\n",
        "    <tr>\n",
        "      <th>0</th>\n",
        "      <td> 97745</td>\n",
        "      <td> 829</td>\n",
        "    </tr>\n",
        "    <tr>\n",
        "      <th>1</th>\n",
        "      <td>  1055</td>\n",
        "      <td> 371</td>\n",
        "    </tr>\n",
        "  </tbody>\n",
        "</table>\n",
        "<p>2 rows \u00d7 2 columns</p>\n",
        "</div>"
       ],
       "metadata": {},
       "output_type": "pyout",
       "prompt_number": 14,
       "text": [
        "Pred        0    1\n",
        "Actual            \n",
        "0       97745  829\n",
        "1        1055  371\n",
        "\n",
        "[2 rows x 2 columns]"
       ]
      }
     ],
     "prompt_number": 14
    },
    {
     "cell_type": "code",
     "collapsed": false,
     "input": [
      "#overall accuracy - validation\n",
      "np.sum(y_train==forest_predictions) / float(len(y_train)) "
     ],
     "language": "python",
     "metadata": {},
     "outputs": [
      {
       "metadata": {},
       "output_type": "pyout",
       "prompt_number": 15,
       "text": [
        "0.98186333333333331"
       ]
      }
     ],
     "prompt_number": 15
    },
    {
     "cell_type": "code",
     "collapsed": false,
     "input": [
      "#purchaser prediction accuracy - validation\n",
      "cm.iloc[1,1]/(cm.iloc[0,1]+cm.iloc[1,1]+0.0)  "
     ],
     "language": "python",
     "metadata": {},
     "outputs": [
      {
       "metadata": {},
       "output_type": "pyout",
       "prompt_number": 16,
       "text": [
        "0.30916666666666665"
       ]
      }
     ],
     "prompt_number": 16
    },
    {
     "cell_type": "code",
     "collapsed": false,
     "input": [
      "#percentage of purchasers correctly predicted - validation\n",
      "cm.iloc[1,1]/(cm.iloc[1,0]+cm.iloc[1,1]+0.0)"
     ],
     "language": "python",
     "metadata": {},
     "outputs": [
      {
       "metadata": {},
       "output_type": "pyout",
       "prompt_number": 17,
       "text": [
        "0.26016830294530152"
       ]
      }
     ],
     "prompt_number": 17
    },
    {
     "cell_type": "code",
     "collapsed": false,
     "input": [],
     "language": "python",
     "metadata": {},
     "outputs": [],
     "prompt_number": 17
    }
   ],
   "metadata": {}
  }
 ]
}